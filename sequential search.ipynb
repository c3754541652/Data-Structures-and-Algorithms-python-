{
 "cells": [
  {
   "cell_type": "code",
   "execution_count": 14,
   "metadata": {
    "collapsed": false
   },
   "outputs": [
    {
     "data": {
      "text/plain": [
       "True"
      ]
     },
     "execution_count": 14,
     "metadata": {},
     "output_type": "execute_result"
    }
   ],
   "source": [
    "def sequentialSearch(alist, item):\n",
    "    n = 0\n",
    "    found = False\n",
    "    \n",
    "    while n < len(alist) and not found:\n",
    "        if alist[n] == item:\n",
    "            found = True\n",
    "        else:\n",
    "            n += 1\n",
    "    \n",
    "    return found\n",
    "\n",
    "alist = [i for i in range(10000000)]\n",
    "sequentialSearch(alist, 1000)"
   ]
  }
 ],
 "metadata": {
  "kernelspec": {
   "display_name": "Python 3",
   "language": "python",
   "name": "python3"
  },
  "language_info": {
   "codemirror_mode": {
    "name": "ipython",
    "version": 3
   },
   "file_extension": ".py",
   "mimetype": "text/x-python",
   "name": "python",
   "nbconvert_exporter": "python",
   "pygments_lexer": "ipython3",
   "version": "3.6.0"
  }
 },
 "nbformat": 4,
 "nbformat_minor": 2
}
