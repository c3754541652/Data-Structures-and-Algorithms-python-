{
 "cells": [
  {
   "cell_type": "code",
   "execution_count": 10,
   "metadata": {
    "collapsed": false
   },
   "outputs": [
    {
     "name": "stdout",
     "output_type": "stream",
     "text": [
      "[1, 2, 3, 3, 9]\n"
     ]
    }
   ],
   "source": [
    "def selectionSort(alist):\n",
    "    for fillnum in range(len(alist) - 1, 0, -1):\n",
    "        posofMax = 0\n",
    "        for i in range(1, fillnum + 1):\n",
    "            if alist[i] > alist[posofMax]:\n",
    "                posofMax = i\n",
    "\n",
    "            tmp = alist[fillnum]\n",
    "            alist[fillnum] = alist[posofMax]\n",
    "            alist[posofMax] = tmp\n",
    "\n",
    "\n",
    "alist = [3, 1, 3, 2, 9]\n",
    "selectionSort(alist)\n",
    "print(alist)"
   ]
  },
  {
   "cell_type": "code",
   "execution_count": null,
   "metadata": {
    "collapsed": true
   },
   "outputs": [],
   "source": []
  }
 ],
 "metadata": {
  "kernelspec": {
   "display_name": "Python 3",
   "language": "python",
   "name": "python3"
  },
  "language_info": {
   "codemirror_mode": {
    "name": "ipython",
    "version": 3
   },
   "file_extension": ".py",
   "mimetype": "text/x-python",
   "name": "python",
   "nbconvert_exporter": "python",
   "pygments_lexer": "ipython3",
   "version": "3.6.0"
  }
 },
 "nbformat": 4,
 "nbformat_minor": 2
}
