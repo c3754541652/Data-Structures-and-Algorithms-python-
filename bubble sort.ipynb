{
 "cells": [
  {
   "cell_type": "code",
   "execution_count": 11,
   "metadata": {
    "collapsed": false
   },
   "outputs": [
    {
     "name": "stdout",
     "output_type": "stream",
     "text": [
      "[1, 2, 3, 3, 5, 5, 7, 9, 10]\n"
     ]
    }
   ],
   "source": [
    "def bubbleSort(alist):\n",
    "    for passnum in range(len(alist)-1, 0, -1):   #每一次比对之后都会找出一个最大值放在后面，所以最后一个不用去比对。\n",
    "        for i in range(len(alist) - 1):\n",
    "            if alist[i] > alist[i + 1]:\n",
    "                tmp = alist[i]\n",
    "                alist[i] = alist[i + 1]\n",
    "                alist[i + 1] = tmp\n",
    "\n",
    "alist = [2, 1, 3, 5, 3, 5, 7, 9, 10]\n",
    "bubbleSort(alist)\n",
    "print(alist)"
   ]
  }
 ],
 "metadata": {
  "kernelspec": {
   "display_name": "Python 3",
   "language": "python",
   "name": "python3"
  },
  "language_info": {
   "codemirror_mode": {
    "name": "ipython",
    "version": 3
   },
   "file_extension": ".py",
   "mimetype": "text/x-python",
   "name": "python",
   "nbconvert_exporter": "python",
   "pygments_lexer": "ipython3",
   "version": "3.6.0"
  }
 },
 "nbformat": 4,
 "nbformat_minor": 2
}
