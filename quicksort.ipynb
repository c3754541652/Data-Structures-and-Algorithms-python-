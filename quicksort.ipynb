{
 "cells": [
  {
   "cell_type": "code",
   "execution_count": 18,
   "metadata": {
    "collapsed": false
   },
   "outputs": [
    {
     "name": "stdout",
     "output_type": "stream",
     "text": [
      "[1, 1, 2, 2, 3, 6, 7, 45]\n"
     ]
    }
   ],
   "source": [
    "def partition(alist, left, right):\n",
    "    #一个基准值，两个指针\n",
    "    key = alist[left]    \n",
    "    low = left\n",
    "    high = right\n",
    "    \n",
    "    while low < high:\n",
    "        #当右边的指针指的值大于基准值时，指针往前移\n",
    "        while low < high and alist[high] >= key:\n",
    "            high -= 1\n",
    "        alist[low] = alist[high]\n",
    "        \n",
    "        #当左边的指针指的值小于基准值时，指针前移\n",
    "        while low < high and alist[low] <= key:\n",
    "            low += 1\n",
    "\n",
    "        #发现右边有值小于基准，左边发现有值大于基准值，把右边指针指的值换成左边指的值，再把左边指的值换成基准值\n",
    "        alist[high] = alist[low]\n",
    "        alist[low] = key\n",
    "    return low\n",
    "\n",
    "def quicksort(alist, left, right):\n",
    "    if left < right:\n",
    "        p = partition(alist, left, right)\n",
    "        quicksort(alist,left, p-1)\n",
    "        quicksort(alist, p + 1, right)\n",
    "    return alist\n",
    "\n",
    "if __name__ == '__main__':\n",
    "    alist = [2, 3, 1, 45, 2, 1, 6, 7]\n",
    "    quicksort_list = quicksort(alist, left = 0, right=len(alist) - 1)\n",
    "    print(quicksort_list)"
   ]
  }
 ],
 "metadata": {
  "kernelspec": {
   "display_name": "Python 3",
   "language": "python",
   "name": "python3"
  },
  "language_info": {
   "codemirror_mode": {
    "name": "ipython",
    "version": 3
   },
   "file_extension": ".py",
   "mimetype": "text/x-python",
   "name": "python",
   "nbconvert_exporter": "python",
   "pygments_lexer": "ipython3",
   "version": "3.6.0"
  }
 },
 "nbformat": 4,
 "nbformat_minor": 2
}
